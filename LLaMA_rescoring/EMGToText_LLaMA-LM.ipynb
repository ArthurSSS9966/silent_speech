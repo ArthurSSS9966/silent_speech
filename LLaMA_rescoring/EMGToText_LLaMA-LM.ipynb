{
 "cells": [
  {
   "cell_type": "code",
   "execution_count": 3,
   "id": "96ac3bec",
   "metadata": {},
   "outputs": [],
   "source": [
    "##\n",
    "import os\n",
    "# os.environ[\"CUDA_LAUNCH_BLOCKING\"]=\"1\"\n",
    "import numpy as np\n",
    "from typing import Tuple\n",
    "import sys\n",
    "import torch\n",
    "import fire\n",
    "import time\n",
    "import json\n",
    "\n",
    "from pathlib import Path\n",
    "\n",
    "from llama import ModelArgs, Transformer, Tokenizer, LLaMA\n",
    "\n",
    "NUM_LLAMA_TOKENS = 32000\n",
    "\n",
    "# ==================== params =======================\n",
    "max_seq_len    = 512\n",
    "max_batch_size = 100\n",
    "length_penalty = 0\n",
    "# ===================================================\n",
    "\n",
    "\n",
    "def load_LLaMA7B(target_dir = os.path.join(os.environ[\"L_SCRATCH\"], \"LLaMA\")):\n",
    "    # single gpu loading...\n",
    "    ckpt_dir       = os.path.join(target_dir, \"7B\")\n",
    "    \n",
    "    tokenizer_path = os.path.join(target_dir, \"tokenizer.model\")\n",
    "    checkpoints    = sorted(Path(ckpt_dir).glob(\"*.pth\"))\n",
    "    ckpt_path      = checkpoints[0]\n",
    "    checkpoint     = torch.load(ckpt_path, map_location=\"cpu\")\n",
    "    ##\n",
    "    with open(Path(ckpt_dir) / \"params.json\", \"r\") as f:\n",
    "        params = json.loads(f.read())\n",
    "    model_args: ModelArgs = ModelArgs(\n",
    "        max_seq_len=max_seq_len, max_batch_size=max_batch_size, **params\n",
    "    )\n",
    "    tokenizer = Tokenizer(model_path=tokenizer_path)\n",
    "    model_args.vocab_size = tokenizer.n_words\n",
    "    torch.set_default_tensor_type(torch.cuda.HalfTensor)\n",
    "    model = Transformer(model_args)\n",
    "    torch.set_default_tensor_type(torch.FloatTensor)\n",
    "    model.load_state_dict(checkpoint, strict=False)\n",
    "    \n",
    "    return model, tokenizer\n",
    "\n",
    "#del model\n",
    "torch.cuda.empty_cache()\n",
    "\n",
    "model, tokenizer = load_LLaMA7B()"
   ]
  },
  {
   "cell_type": "code",
   "execution_count": 5,
   "id": "83c1516d",
   "metadata": {},
   "outputs": [],
   "source": [
    "def get_lm_scores(model, tokenizer, inputs, length_penalty=0, append_eos = True):\n",
    "    '''Inputs are:\n",
    "    \n",
    "        model (LLaMA torch module) \n",
    "        tokenizer (tokenizer) \n",
    "        inputs (list of str)   - sentences to score\n",
    "        length_penalty (float) - score modifier based on length\n",
    "        append_eos (Bool)      - optionally append end sentence symbol to strings'''\n",
    "    \n",
    "    nBatch = len(inputs)\n",
    "\n",
    "    input_tokens = [tokenizer.encode(x, bos=True, eos=False) for x in inputs]\n",
    "    \n",
    "    if append_eos: # append end of sentence token\n",
    "        for toks in input_tokens:\n",
    "            toks.append(tokenizer.eos_id)\n",
    "    \n",
    "    input_sizes  = [len(t) for t in input_tokens]\n",
    "    min_input_size = min(input_sizes)\n",
    "    max_input_size = max(input_sizes)\n",
    "\n",
    "    total_len = min(max_seq_len, max_input_size)\n",
    "    tokens = torch.full((nBatch, total_len), tokenizer.pad_id).cuda().long()\n",
    "    for k, t in enumerate(input_tokens):\n",
    "        tokens[k, : len(t)] = torch.tensor(t).long()\n",
    "    input_text_mask = tokens != tokenizer.pad_id\n",
    "\n",
    "    # start_pos = min_input_size\n",
    "    # we always start by predicting logits for second token. Note first token is always \"1\"\n",
    "    start_pos = 1\n",
    "    prev_pos  = 0\n",
    "    logprobs  = torch.zeros([nBatch, total_len-1, NUM_LLAMA_TOKENS]).cuda()\n",
    "    for cur_pos in range(start_pos, total_len):\n",
    "        # note that the model is stateful & actually caches previous inputs, in a sense\n",
    "        # see https://github.com/facebookresearch/llama/issues/151 for explanation\n",
    "        logits = model.forward(tokens[:, prev_pos:cur_pos], prev_pos)\n",
    "        logprobs[:,cur_pos-1] = torch.log_softmax(logits, dim=-1)\n",
    "\n",
    "        #### for sequences shorter than max_input_size, we fill in predictions\n",
    "        # if we don't do this, we crash model with \"-1\" placeholder token\n",
    "        next_token = torch.argmax(logits, dim=-1)\n",
    "        next_token = next_token.reshape(-1)\n",
    "        # only replace token if input has already been generated\n",
    "        next_token = torch.where(\n",
    "            input_text_mask[:, cur_pos], tokens[:, cur_pos], next_token\n",
    "        )\n",
    "        tokens[:, cur_pos] = next_token\n",
    "        ####\n",
    "\n",
    "        prev_pos = cur_pos\n",
    "\n",
    "    lm_scores = torch.zeros(nBatch).cuda()\n",
    "    for i in range(nBatch):\n",
    "        n_tokens = input_sizes[i]\n",
    "        score = 0.\n",
    "        for j in range(n_tokens-1):\n",
    "            # we skip logits for first token, which is always \"1\"\n",
    "            score += logprobs[i, j, input_tokens[i][j+1]]\n",
    "            # score += logProbs[i, j - 1, inputs['input_ids'][i, j].numpy()]\n",
    "\n",
    "        lm_scores[i] = score - n_tokens * length_penalty\n",
    "        \n",
    "    return lm_scores"
   ]
  },
  {
   "cell_type": "code",
   "execution_count": 6,
   "id": "77b0e684",
   "metadata": {},
   "outputs": [
    {
     "name": "stdout",
     "output_type": "stream",
     "text": [
      "logprob -32.04: The dog went for a walk in the park.\n",
      "logprob -33.25: The dog went for a walk in the forest.\n",
      "logprob -35.90: The dog went for a walk in the city.\n",
      "logprob -37.06: The dog went for a walk in the backyard.\n",
      "logprob -38.04: The dog went for a walk in the zoo.\n",
      "logprob -38.42: The dog went for a walk in the ocean.\n",
      "logprob -39.80: The dog went for a walk in the living room.\n",
      "logprob -45.26: The dog went for a walk in the potato.\n",
      "logprob -47.35: The dog went for a walk in the titanic.\n",
      "logprob -50.17: The dog went for a walk in the EMG.\n",
      "logprob -51.41: The dog went for a walk in the machine learning.\n",
      "logprob -53.99: The dog went for a walk in the gorgonzola.\n"
     ]
    }
   ],
   "source": [
    "\n",
    "##\n",
    "inputs = [\n",
    "    'The dog went for a walk in the ocean.',\n",
    "    'The dog went for a walk in the park.',\n",
    "    'The dog went for a walk in the machine learning.',\n",
    "    \"The dog went for a walk in the potato.\",\n",
    "    \"The dog went for a walk in the EMG.\",\n",
    "    \"The dog went for a walk in the gorgonzola.\",\n",
    "    \"The dog went for a walk in the zoo.\",\n",
    "    \"The dog went for a walk in the titanic.\",\n",
    "    \"The dog went for a walk in the forest.\",\n",
    "    \"The dog went for a walk in the backyard.\",\n",
    "    \"The dog went for a walk in the city.\",\n",
    "    \"The dog went for a walk in the living room.\",\n",
    "]\n",
    "\n",
    "lm_scores = get_lm_scores(model, tokenizer, inputs, length_penalty = 0)\n",
    "\n",
    "rankings = [(f\"{float(lm_scores[x]):.2f}\", inputs[x]) for x in lm_scores.argsort(descending=True)]\n",
    "for score, sentence in rankings:\n",
    "    print(f\"logprob {score}: {sentence}\")"
   ]
  },
  {
   "cell_type": "code",
   "execution_count": 7,
   "id": "45bcb95b",
   "metadata": {},
   "outputs": [
    {
     "name": "stdout",
     "output_type": "stream",
     "text": [
      "Beam search with top [100] candidates\n",
      "199 sentences in test set.\n",
      "\n",
      "N-gram WER:  0.27691087014017457\n"
     ]
    }
   ],
   "source": [
    "import numpy as np\n",
    "from scipy.io import loadmat\n",
    "import jiwer\n",
    "import os\n",
    "\n",
    "model_dir = '/oak/stanford/projects/babelfish/magneto/GaddyPaper/output/EMGToText/baseline/'\n",
    "datas     = loadmat(os.path.join(model_dir, 'topk_data.mat'))\n",
    "print('Beam search with top {} candidates'.format(datas['k'][0]))\n",
    "print(len(datas['sentences']), 'sentences in test set.')\n",
    "\n",
    "naivelm_preds = [datas['predictions'][0][i][np.argmax(datas['beam_scores'][0][i])].strip() for i in range(len(datas['sentences'])) ]\n",
    "naivelm_wer   = jiwer.wer(datas['sentences'].tolist(), naivelm_preds)\n",
    "\n",
    "print(\"\\nN-gram WER: \", naivelm_wer)"
   ]
  },
  {
   "cell_type": "code",
   "execution_count": 8,
   "id": "83dc8792",
   "metadata": {},
   "outputs": [],
   "source": [
    "length_penalty = 0\n",
    "\n",
    "# Calculate scores from LLM separately so we can sweep integrating w/ old scores below:\n",
    "llm_scores = list()\n",
    "for i, predictions in enumerate(datas['predictions'][0]):\n",
    "    predictions = [str(x).strip() for x in predictions]\n",
    "    llm_scores.append(get_lm_scores(model, tokenizer, predictions, length_penalty=length_penalty).cpu())"
   ]
  },
  {
   "cell_type": "code",
   "execution_count": 9,
   "id": "6bb1c3d4",
   "metadata": {},
   "outputs": [],
   "source": [
    "wers = list()\n",
    "\n",
    "alphas = np.linspace(0, 1, 20)\n",
    "\n",
    "for alpha in alphas:\n",
    "\n",
    "    new_scores = list()\n",
    "    for i, (llm_score, old_scores) in enumerate(zip(llm_scores, datas['beam_scores'][0])):\n",
    "        new_scores.append(alpha * llm_score + (1 - alpha) * old_scores)\n",
    "\n",
    "    llm_preds = [datas['predictions'][0][i][np.argmax(new_scores[i])].strip() for i in range(len(datas['sentences'])) ]\n",
    "    llm_wer   = jiwer.wer(datas['sentences'].tolist(), llm_preds)\n",
    "    #print(\"Rescored WER: \", llm_wer)\n",
    "    wers.append(llm_wer)"
   ]
  },
  {
   "cell_type": "code",
   "execution_count": 10,
   "id": "ba6ff1e3",
   "metadata": {},
   "outputs": [
    {
     "data": {
      "image/png": "[encoded data removed]",
      "text/plain": [
       "<Figure size 432x288 with 1 Axes>"
      ]
     },
     "metadata": {
      "needs_background": "light"
     },
     "output_type": "display_data"
    }
   ],
   "source": [
    "import matplotlib.pyplot as plt\n",
    "\n",
    "plt.plot(alphas, wers)\n",
    "plt.xlabel('Alpha')\n",
    "plt.ylabel('WER')\n",
    "ax = plt.gca()\n",
    "ax.spines['top'].set_visible(False)\n",
    "ax.spines['right'].set_visible(False)"
   ]
  },
  {
   "cell_type": "code",
   "execution_count": null,
   "id": "3b50a05d",
   "metadata": {},
   "outputs": [],
   "source": []
  }
 ],
 "metadata": {
  "kernelspec": {
   "display_name": "Magneto (3.9)",
   "language": "python",
   "name": "mag-3.9"
  },
  "language_info": {
   "codemirror_mode": {
    "name": "ipython",
    "version": 3
   },
   "file_extension": ".py",
   "mimetype": "text/x-python",
   "name": "python",
   "nbconvert_exporter": "python",
   "pygments_lexer": "ipython3",
   "version": "3.9.15"
  }
 },
 "nbformat": 4,
 "nbformat_minor": 5
}
