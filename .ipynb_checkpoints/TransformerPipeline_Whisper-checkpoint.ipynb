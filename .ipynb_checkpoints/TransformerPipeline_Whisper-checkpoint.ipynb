{
 "cells": [
  {
   "cell_type": "code",
   "execution_count": 1,
   "id": "42a26df9",
   "metadata": {},
   "outputs": [
    {
     "name": "stderr",
     "output_type": "stream",
     "text": [
      "ERROR:root:Internal Python error in the inspect module.\n",
      "Below is the traceback from this internal error.\n",
      "\n"
     ]
    }
   ],
   "source": [
    "import whisper\n",
    "\n",
    "audio_file = '/oak/stanford/projects/babelfish/magneto/GaddyPaper/emg_data/voiced_parallel_data/5-10/138_audio.flac'\n",
    "\n",
    "model = whisper.load_model(\"small.en\")\n",
    "result = model.transcribe(audio_file)\n",
    "print(result[\"text\"])"
   ]
  },
  {
   "cell_type": "markdown",
   "id": "536c8cae",
   "metadata": {},
   "source": [
    "Convert audio files to .wav (soundfile having issue reading some of the .flac files...?)"
   ]
  },
  {
   "cell_type": "code",
   "execution_count": 69,
   "id": "2148c9fc",
   "metadata": {},
   "outputs": [
    {
     "name": "stdout",
     "output_type": "stream",
     "text": [
      "24770 .flac files\n",
      "0\n",
      "1000\n",
      "2000\n",
      "3000\n",
      "4000\n",
      "5000\n",
      "6000\n",
      "7000\n",
      "8000\n",
      "9000\n",
      "10000\n",
      "11000\n",
      "12000\n",
      "13000\n",
      "14000\n",
      "15000\n",
      "16000\n",
      "17000\n",
      "18000\n",
      "19000\n",
      "20000\n",
      "21000\n",
      "22000\n",
      "23000\n",
      "24000\n"
     ]
    }
   ],
   "source": [
    "import glob, subprocess, os\n",
    "\n",
    "audio_files = glob.glob('/oak/stanford/projects/babelfish/magneto/GaddyPaper/emg_data/*/*/*/*.flac')\n",
    "audio_files.extend(glob.glob('/oak/stanford/projects/babelfish/magneto/GaddyPaper/emg_data/*/*/*.flac'))\n",
    "\n",
    "print(len(audio_files), 'flac files to convert.')\n",
    "\n",
    "for i, audio_file in enumerate(audio_files):\n",
    "    if not os.path.isfile(audio_file.replace('flac', 'wav')):\n",
    "        sp = subprocess.Popen('ml load ffmpeg; ffmpeg -i ' + audio_file + ' ' + audio_file.replace('flac', 'wav'), \\\n",
    "        stderr=subprocess.PIPE, \\\n",
    "        stdout=subprocess.PIPE, \\\n",
    "        shell=True)\n",
    "\n",
    "        (std_out, std_err) = sp.communicate()\n",
    "    if i % 1000 == 0:\n",
    "        print(i)"
   ]
  },
  {
   "cell_type": "code",
   "execution_count": 47,
   "id": "82fc7552",
   "metadata": {},
   "outputs": [
    {
     "data": {
      "text/plain": [
       "(16000, array([ 81, 100, 124, ..., 104,  89,  70], dtype=int16))"
      ]
     },
     "execution_count": 47,
     "metadata": {},
     "output_type": "execute_result"
    }
   ],
   "source": [
    "import scipy\n",
    "\n",
    "\n",
    "scipy.io.wavfile.read(audio_file.replace('flac', 'wav'))"
   ]
  },
  {
   "cell_type": "markdown",
   "id": "90e2e2f7",
   "metadata": {},
   "source": [
    "First train a transduction model."
   ]
  },
  {
   "cell_type": "code",
   "execution_count": null,
   "id": "2d23f694",
   "metadata": {},
   "outputs": [],
   "source": [
    "%%!\n",
    "\n",
    "cd projects/silent_speech/\n",
    "conda activate mag-3.9\n",
    "python transduction_model.py --output_directory '/oak/stanford/projects/babelfish/magneto/GaddyPaper/output' --epochs 80 "
   ]
  },
  {
   "cell_type": "markdown",
   "id": "8476636b",
   "metadata": {},
   "source": [
    "Now evaluate model. Current test set WER should be about 26.5%. This reflects two changes:\n",
    "- swapping DeepSpeech out with Whisper (35% --> 31%)\n",
    "- cleaning test set, relabeling some strings (e.g. 'iv.' as 'four'); 31% --> 26.5%"
   ]
  },
  {
   "cell_type": "code",
   "execution_count": 1,
   "id": "c0aa3e8d",
   "metadata": {},
   "outputs": [
    {
     "name": "stderr",
     "output_type": "stream",
     "text": [
      "Traceback (most recent call last):\n",
      "  File \"/home/users/ghwilson/projects/silent_speech/evaluate.py\", line 5, in <module>\n",
      "    import torch\n",
      "  File \"/home/users/ghwilson/.local/lib/python3.9/site-packages/torch/__init__.py\", line 191, in <module>\n",
      "    _load_global_deps()\n",
      "  File \"/home/users/ghwilson/.local/lib/python3.9/site-packages/torch/__init__.py\", line 153, in _load_global_deps\n",
      "    ctypes.CDLL(lib_path, mode=ctypes.RTLD_GLOBAL)\n",
      "  File \"/share/software/user/open/python/3.9.0/lib/python3.9/ctypes/__init__.py\", line 374, in __init__\n",
      "    self._handle = _dlopen(self._name, mode)\n",
      "OSError: /home/users/ghwilson/.local/lib/python3.9/site-packages/torch/lib/../../nvidia/cublas/lib/libcublas.so.11: symbol cublasLtGetStatusString, version libcublasLt.so.11 not defined in file libcublasLt.so.11 with link time reference\n",
      "sh: line 3: --hifigan_checkpoint: command not found\n"
     ]
    },
    {
     "ename": "CalledProcessError",
     "evalue": "Command 'b\"\\npython3 evaluate.py --models '/oak/stanford/projects/babelfish/magneto/GaddyPaper/output/model.pt' \\n--hifigan_checkpoint '/oak/stanford/projects/babelfish/magneto/GaddyPaper/pretrained_models/hifigan_finetuned/checkpoint'\\n\"' returned non-zero exit status 127.",
     "output_type": "error",
     "traceback": [
      "\u001b[0;31m---------------------------------------------------------------------------\u001b[0m",
      "\u001b[0;31mCalledProcessError\u001b[0m                        Traceback (most recent call last)",
      "\u001b[0;32m/tmp/ipykernel_10868/567523226.py\u001b[0m in \u001b[0;36m<module>\u001b[0;34m\u001b[0m\n\u001b[0;32m----> 1\u001b[0;31m \u001b[0mget_ipython\u001b[0m\u001b[0;34m(\u001b[0m\u001b[0;34m)\u001b[0m\u001b[0;34m.\u001b[0m\u001b[0mrun_cell_magic\u001b[0m\u001b[0;34m(\u001b[0m\u001b[0;34m'sh'\u001b[0m\u001b[0;34m,\u001b[0m \u001b[0;34m''\u001b[0m\u001b[0;34m,\u001b[0m \u001b[0;34m\"\\npython3 evaluate.py --models '/oak/stanford/projects/babelfish/magneto/GaddyPaper/output/model.pt' \\n--hifigan_checkpoint '/oak/stanford/projects/babelfish/magneto/GaddyPaper/pretrained_models/hifigan_finetuned/checkpoint'\\n\"\u001b[0m\u001b[0;34m)\u001b[0m\u001b[0;34m\u001b[0m\u001b[0;34m\u001b[0m\u001b[0m\n\u001b[0m",
      "\u001b[0;32m/share/software/user/open/py-jupyter/1.0.0_py39/lib/python3.9/site-packages/IPython/core/interactiveshell.py\u001b[0m in \u001b[0;36mrun_cell_magic\u001b[0;34m(self, magic_name, line, cell)\u001b[0m\n\u001b[1;32m   2401\u001b[0m             \u001b[0;32mwith\u001b[0m \u001b[0mself\u001b[0m\u001b[0;34m.\u001b[0m\u001b[0mbuiltin_trap\u001b[0m\u001b[0;34m:\u001b[0m\u001b[0;34m\u001b[0m\u001b[0;34m\u001b[0m\u001b[0m\n\u001b[1;32m   2402\u001b[0m                 \u001b[0margs\u001b[0m \u001b[0;34m=\u001b[0m \u001b[0;34m(\u001b[0m\u001b[0mmagic_arg_s\u001b[0m\u001b[0;34m,\u001b[0m \u001b[0mcell\u001b[0m\u001b[0;34m)\u001b[0m\u001b[0;34m\u001b[0m\u001b[0;34m\u001b[0m\u001b[0m\n\u001b[0;32m-> 2403\u001b[0;31m                 \u001b[0mresult\u001b[0m \u001b[0;34m=\u001b[0m \u001b[0mfn\u001b[0m\u001b[0;34m(\u001b[0m\u001b[0;34m*\u001b[0m\u001b[0margs\u001b[0m\u001b[0;34m,\u001b[0m \u001b[0;34m**\u001b[0m\u001b[0mkwargs\u001b[0m\u001b[0;34m)\u001b[0m\u001b[0;34m\u001b[0m\u001b[0;34m\u001b[0m\u001b[0m\n\u001b[0m\u001b[1;32m   2404\u001b[0m             \u001b[0;32mreturn\u001b[0m \u001b[0mresult\u001b[0m\u001b[0;34m\u001b[0m\u001b[0;34m\u001b[0m\u001b[0m\n\u001b[1;32m   2405\u001b[0m \u001b[0;34m\u001b[0m\u001b[0m\n",
      "\u001b[0;32m/share/software/user/open/py-jupyter/1.0.0_py39/lib/python3.9/site-packages/IPython/core/magics/script.py\u001b[0m in \u001b[0;36mnamed_script_magic\u001b[0;34m(line, cell)\u001b[0m\n\u001b[1;32m    140\u001b[0m             \u001b[0;32melse\u001b[0m\u001b[0;34m:\u001b[0m\u001b[0;34m\u001b[0m\u001b[0;34m\u001b[0m\u001b[0m\n\u001b[1;32m    141\u001b[0m                 \u001b[0mline\u001b[0m \u001b[0;34m=\u001b[0m \u001b[0mscript\u001b[0m\u001b[0;34m\u001b[0m\u001b[0;34m\u001b[0m\u001b[0m\n\u001b[0;32m--> 142\u001b[0;31m             \u001b[0;32mreturn\u001b[0m \u001b[0mself\u001b[0m\u001b[0;34m.\u001b[0m\u001b[0mshebang\u001b[0m\u001b[0;34m(\u001b[0m\u001b[0mline\u001b[0m\u001b[0;34m,\u001b[0m \u001b[0mcell\u001b[0m\u001b[0;34m)\u001b[0m\u001b[0;34m\u001b[0m\u001b[0;34m\u001b[0m\u001b[0m\n\u001b[0m\u001b[1;32m    143\u001b[0m \u001b[0;34m\u001b[0m\u001b[0m\n\u001b[1;32m    144\u001b[0m         \u001b[0;31m# write a basic docstring:\u001b[0m\u001b[0;34m\u001b[0m\u001b[0;34m\u001b[0m\u001b[0;34m\u001b[0m\u001b[0m\n",
      "\u001b[0;32m/share/software/user/open/py-jupyter/1.0.0_py39/lib/python3.9/site-packages/decorator.py\u001b[0m in \u001b[0;36mfun\u001b[0;34m(*args, **kw)\u001b[0m\n\u001b[1;32m    230\u001b[0m             \u001b[0;32mif\u001b[0m \u001b[0;32mnot\u001b[0m \u001b[0mkwsyntax\u001b[0m\u001b[0;34m:\u001b[0m\u001b[0;34m\u001b[0m\u001b[0;34m\u001b[0m\u001b[0m\n\u001b[1;32m    231\u001b[0m                 \u001b[0margs\u001b[0m\u001b[0;34m,\u001b[0m \u001b[0mkw\u001b[0m \u001b[0;34m=\u001b[0m \u001b[0mfix\u001b[0m\u001b[0;34m(\u001b[0m\u001b[0margs\u001b[0m\u001b[0;34m,\u001b[0m \u001b[0mkw\u001b[0m\u001b[0;34m,\u001b[0m \u001b[0msig\u001b[0m\u001b[0;34m)\u001b[0m\u001b[0;34m\u001b[0m\u001b[0;34m\u001b[0m\u001b[0m\n\u001b[0;32m--> 232\u001b[0;31m             \u001b[0;32mreturn\u001b[0m \u001b[0mcaller\u001b[0m\u001b[0;34m(\u001b[0m\u001b[0mfunc\u001b[0m\u001b[0;34m,\u001b[0m \u001b[0;34m*\u001b[0m\u001b[0;34m(\u001b[0m\u001b[0mextras\u001b[0m \u001b[0;34m+\u001b[0m \u001b[0margs\u001b[0m\u001b[0;34m)\u001b[0m\u001b[0;34m,\u001b[0m \u001b[0;34m**\u001b[0m\u001b[0mkw\u001b[0m\u001b[0;34m)\u001b[0m\u001b[0;34m\u001b[0m\u001b[0;34m\u001b[0m\u001b[0m\n\u001b[0m\u001b[1;32m    233\u001b[0m     \u001b[0mfun\u001b[0m\u001b[0;34m.\u001b[0m\u001b[0m__name__\u001b[0m \u001b[0;34m=\u001b[0m \u001b[0mfunc\u001b[0m\u001b[0;34m.\u001b[0m\u001b[0m__name__\u001b[0m\u001b[0;34m\u001b[0m\u001b[0;34m\u001b[0m\u001b[0m\n\u001b[1;32m    234\u001b[0m     \u001b[0mfun\u001b[0m\u001b[0;34m.\u001b[0m\u001b[0m__doc__\u001b[0m \u001b[0;34m=\u001b[0m \u001b[0mfunc\u001b[0m\u001b[0;34m.\u001b[0m\u001b[0m__doc__\u001b[0m\u001b[0;34m\u001b[0m\u001b[0;34m\u001b[0m\u001b[0m\n",
      "\u001b[0;32m/share/software/user/open/py-jupyter/1.0.0_py39/lib/python3.9/site-packages/IPython/core/magic.py\u001b[0m in \u001b[0;36m<lambda>\u001b[0;34m(f, *a, **k)\u001b[0m\n\u001b[1;32m    185\u001b[0m     \u001b[0;31m# but it's overkill for just that one bit of state.\u001b[0m\u001b[0;34m\u001b[0m\u001b[0;34m\u001b[0m\u001b[0;34m\u001b[0m\u001b[0m\n\u001b[1;32m    186\u001b[0m     \u001b[0;32mdef\u001b[0m \u001b[0mmagic_deco\u001b[0m\u001b[0;34m(\u001b[0m\u001b[0marg\u001b[0m\u001b[0;34m)\u001b[0m\u001b[0;34m:\u001b[0m\u001b[0;34m\u001b[0m\u001b[0;34m\u001b[0m\u001b[0m\n\u001b[0;32m--> 187\u001b[0;31m         \u001b[0mcall\u001b[0m \u001b[0;34m=\u001b[0m \u001b[0;32mlambda\u001b[0m \u001b[0mf\u001b[0m\u001b[0;34m,\u001b[0m \u001b[0;34m*\u001b[0m\u001b[0ma\u001b[0m\u001b[0;34m,\u001b[0m \u001b[0;34m**\u001b[0m\u001b[0mk\u001b[0m\u001b[0;34m:\u001b[0m \u001b[0mf\u001b[0m\u001b[0;34m(\u001b[0m\u001b[0;34m*\u001b[0m\u001b[0ma\u001b[0m\u001b[0;34m,\u001b[0m \u001b[0;34m**\u001b[0m\u001b[0mk\u001b[0m\u001b[0;34m)\u001b[0m\u001b[0;34m\u001b[0m\u001b[0;34m\u001b[0m\u001b[0m\n\u001b[0m\u001b[1;32m    188\u001b[0m \u001b[0;34m\u001b[0m\u001b[0m\n\u001b[1;32m    189\u001b[0m         \u001b[0;32mif\u001b[0m \u001b[0mcallable\u001b[0m\u001b[0;34m(\u001b[0m\u001b[0marg\u001b[0m\u001b[0;34m)\u001b[0m\u001b[0;34m:\u001b[0m\u001b[0;34m\u001b[0m\u001b[0;34m\u001b[0m\u001b[0m\n",
      "\u001b[0;32m/share/software/user/open/py-jupyter/1.0.0_py39/lib/python3.9/site-packages/IPython/core/magics/script.py\u001b[0m in \u001b[0;36mshebang\u001b[0;34m(self, line, cell)\u001b[0m\n\u001b[1;32m    243\u001b[0m             \u001b[0msys\u001b[0m\u001b[0;34m.\u001b[0m\u001b[0mstderr\u001b[0m\u001b[0;34m.\u001b[0m\u001b[0mflush\u001b[0m\u001b[0;34m(\u001b[0m\u001b[0;34m)\u001b[0m\u001b[0;34m\u001b[0m\u001b[0;34m\u001b[0m\u001b[0m\n\u001b[1;32m    244\u001b[0m         \u001b[0;32mif\u001b[0m \u001b[0margs\u001b[0m\u001b[0;34m.\u001b[0m\u001b[0mraise_error\u001b[0m \u001b[0;32mand\u001b[0m \u001b[0mp\u001b[0m\u001b[0;34m.\u001b[0m\u001b[0mreturncode\u001b[0m\u001b[0;34m!=\u001b[0m\u001b[0;36m0\u001b[0m\u001b[0;34m:\u001b[0m\u001b[0;34m\u001b[0m\u001b[0;34m\u001b[0m\u001b[0m\n\u001b[0;32m--> 245\u001b[0;31m             \u001b[0;32mraise\u001b[0m \u001b[0mCalledProcessError\u001b[0m\u001b[0;34m(\u001b[0m\u001b[0mp\u001b[0m\u001b[0;34m.\u001b[0m\u001b[0mreturncode\u001b[0m\u001b[0;34m,\u001b[0m \u001b[0mcell\u001b[0m\u001b[0;34m,\u001b[0m \u001b[0moutput\u001b[0m\u001b[0;34m=\u001b[0m\u001b[0mout\u001b[0m\u001b[0;34m,\u001b[0m \u001b[0mstderr\u001b[0m\u001b[0;34m=\u001b[0m\u001b[0merr\u001b[0m\u001b[0;34m)\u001b[0m\u001b[0;34m\u001b[0m\u001b[0;34m\u001b[0m\u001b[0m\n\u001b[0m\u001b[1;32m    246\u001b[0m \u001b[0;34m\u001b[0m\u001b[0m\n\u001b[1;32m    247\u001b[0m     \u001b[0;32mdef\u001b[0m \u001b[0m_run_script\u001b[0m\u001b[0;34m(\u001b[0m\u001b[0mself\u001b[0m\u001b[0;34m,\u001b[0m \u001b[0mp\u001b[0m\u001b[0;34m,\u001b[0m \u001b[0mcell\u001b[0m\u001b[0;34m,\u001b[0m \u001b[0mto_close\u001b[0m\u001b[0;34m)\u001b[0m\u001b[0;34m:\u001b[0m\u001b[0;34m\u001b[0m\u001b[0;34m\u001b[0m\u001b[0m\n",
      "\u001b[0;31mCalledProcessError\u001b[0m: Command 'b\"\\npython3 evaluate.py --models '/oak/stanford/projects/babelfish/magneto/GaddyPaper/output/model.pt' \\n--hifigan_checkpoint '/oak/stanford/projects/babelfish/magneto/GaddyPaper/pretrained_models/hifigan_finetuned/checkpoint'\\n\"' returned non-zero exit status 127."
     ]
    }
   ],
   "source": [
    "%%shell\n",
    "\n",
    "python3 evaluate.py --models '/oak/stanford/projects/babelfish/magneto/GaddyPaper/output/model.pt' \n",
    "--hifigan_checkpoint '/oak/stanford/projects/babelfish/magneto/GaddyPaper/pretrained_models/hifigan_finetuned/checkpoint'"
   ]
  },
  {
   "cell_type": "code",
   "execution_count": 1,
   "id": "ab5d1ef3",
   "metadata": {},
   "outputs": [],
   "source": [
    "targets = ['i half turned keeping my eyes fixed upon the cylinder still from which other tentacles were now projecting and began pushing my way back from the edge of the pit', 'between us and leatherhead however lay the third cylinder with its guarding giants', 'probably this is due to the relative strength of the earths gravitational energy on that last text their leaderwriter expanded very comfortingly', 'it hardly seemed a fair fight to me at that time', 'then abruptly he sat down before the table put his head on his arms and began to sob and weep like a little boy in a perfect passion of emotion while i with a curious forgetfulness of my own recent despair stood beside him wondering', 'that was it', 'at the same time four of their fighting machines similarly armed with tubes crossed the river and two of them black against the western sky came into sight of myself and the curate as we hurried wearily and painfully along the road that runs northward out of halliford', 'the light upon the railway puzzled me at first there were a black heap and a vivid glare and to the right of that a row of yellow oblongs', 'after a while i left them and went on to the railway station to get as many morning papers as i could', 'the shell burst clean in the face of the thing', 'all night long the martians were hammering and stirring sleepless indefatigable at work upon the machines they were making ready and ever and again a puff of greenishwhite smoke whirled up to the starlit sky', 'to get under water', 'the place was impassable', 'presently he came upon a stile and crossing it followed a footpath northeastward', 'some of the refugees were exchanging news with the people on the omnibuses', 'those who have never seen a living martian can scarcely imagine the strange horror of its appearance', 'even then he scarcely understood what this indicated until he heard a muffled grating sound and saw the black mark jerk forward an inch or so', 'but its something more than a meteorite', 'this was the deputation', 'he read and reread the paper fearing the worst had happened to me', 'the case appeared to be enormously thick and it was possible that the faint sounds we heard represented a noisy tumult in the interior', 'at times i suffer from the strangest sense of detachment from myself and the world about me i seem to watch it all from the outside from somewhere inconceivably remote out of time out of space out of the stress and tragedy of it all', 'he became alarmed at the news in this and went again to waterloo station to find out if communication were restored', 'for my own part i had been feverishly excited all day', 'four', 'the intense excitement of the events had no doubt left my perceptive powers in a state of erethism', 'the authorities had reason to suppose from the size of the cylinders that at the outside there could not be more than five in each cylinderfifteen altogether', 'we were far beyond the range of the heatray there and had it not been for the silent desertion of some of the houses the stirring movement of packing in others and the knot of soldiers standing on the bridge over the railway and staring down the line towards woking the day would have seemed very like any other sunday', 'i felt a tug at the reins', 'he heard the maxims rattle for a time and then become still', 'it was all so real and so familiar', 'it would seem that a number of men or animals had rushed across the lawn', 'their armoured bodies glittered in the sun as they swept swiftly forward upon the guns growing rapidly larger as they drew nearer', 'that indeed was the general opinion', 'the ringing impact of trucks the sharp whistle of the engines from the junction mingled with their shouts of men from mars excited men came into the station about nine oclock with incredible tidings and caused no more disturbance than drunkards might have done', 'i saw astonishment giving place to horror on the faces of the people about me', 'the chances against anything manlike on mars are a million to one he said', 'they seemed very helpless in that pit of theirs', 'i stopped at the group of people', 'where are you going i asked', 'he is not an insurance agent', 'such things i told myself could not be', 'an enterprising sweetstuff dealer in the chobham road had sent up his son with a barrowload of green apples and ginger beer', 'the burning heather had been extinguished but the level ground towards ottershaw was blackened as far as one could see and still giving off vertical streamers of smoke', 'the hot water from the martians overthrow drifted downstream with me so that for the best part of a mile i could see little of either bank', 'a dozen rockets sprang out of the hills before them so soon as they began to move and warned the waiting batteries about ditton and esher', 'his idea was that meteorites might be falling in a heavy shower upon the planet or that a huge volcanic explosion was in progress', 'besides that there was quite a heap of bicycles', 'remarkable story from woking', 'the martians had been repulsed they were not invulnerable', 'i should have started at once but my companion had been in active service and he knew better than that', 'he turned stared bawled something about crawling out in a thing like a dish cover and ran on to the gate of the house at the crest', 'thirteen', 'the martians and their appliances were altogether invisible save for that thin mast upon which their restless mirror wobbled', 'i looked again at the cylinder and ungovernable terror gripped me', 'i did not know it but that was the last civilised dinner i was to eat for very many strange and terrible days', 'these hilllike forms grew lower and broader even as we stared', 'i remember i felt an extraordinary persuasion that i was being played with that presently when i was upon the very verge of safety this mysterious deathas swift as the passage of lightwould leap after me from the pit about the cylinder and strike me down', 'henderson he called you saw that shooting star last night', 'beyond was a fringe of excitement and farther than that fringe the inflammation had not crept as yet', 'fearful massacres in the thames valley', 'suddenly he vanished and i could have fancied a faint shriek had reached me', 'youll hear more yet i said and went on to my home', 'i and my wife stood amazed', 'he saw this one pursue a man catch him up in one of its steely tentacles and knock his head against the trunk of a pine tree', 'the soldiers were having the greatest difficulty in making them realise the gravity of their position', 'i too on my side began to move towards the pit', 'twelve', 'he heard footsteps running to and fro in the rooms and up and down stairs behind him', 'every now and then people would glance nervously across the wey at the meadows towards chertsey but everything over there was still', 'i myself heard nothing of that', 'there was a mouth under the eyes the lipless brim of which quivered and panted and dropped saliva', 'at the end of it i sat tempering nuts with a cigarette regretting ogilvys rashness and denouncing the shortsighted timidity of the martians', 'the artilleryman jumped down the bank into the road and saluted', 'by byfleet station we emerged from the pine trees and found the country calm and peaceful under the morning sunlight', 'ten', 'for a minute he scarcely realised what this meant and although the heat was excessive he clambered down into the pit close to the bulk to see the thing more clearly', 'when half suffocated i raised my head above water the martians hood pointed at the batteries that were still firing across the river and as it advanced it swung loose what must have been the generator of the heatray', 'i stopped short in the doorway', 'there his story became ejaculatory', 'i know i did', 'in spite of ogilvy i still believed that there were men in mars', 'leatherhead is about twelve miles from maybury hill', 'they have done a foolish thing said i fingering my wineglass', 'and so forth', 'eh said one of the men turning', 'i could not credit it', 'people were fighting savagely for standingroom in the carriages even at two oclock', 'i stood over him waiting for the next flash', 'people came panting along under heavy burdens one husband and wife were even carrying a small outhouse door between them with some of their household goods piled thereon', 'i found a little crowd of perhaps twenty people surrounding the huge hole in which the cylinder lay', 'he fancied even then that the cooling of the body might account for this but what disturbed that idea was the fact that the ash was falling only from the end of the cylinder', 'the horse took the bit between his teeth and bolted', 'then the door behind him opened and the man who lodged across the landing came in dressed only in shirt trousers and slippers his braces loose about his waist his hair disordered from his pillow', 'then suddenly the white flashes of the heatray came leaping towards me', 'what news from the common said i', 'they are dangerous because no doubt they are mad with terror', 'i think they perceived that nothing was to be done for the present and had gone away to breakfast at hendersons house']\n",
    "predictions= [' i deafblown keeping my eyes fixed upon the cylinder still from which other discos wiggle projecting and began bushing my way back from the edge of the pit', ' between us and the leatherhead of lay the third cylinder with its carding giants', ' probably the sum 2 to the rate of strength of the earths gravitational energy on that last xd the elainer rider expanded very comfortably', ' it hardly seemed a fair fight to me at that time', ' then abruptly he sat down before the devil but his head in his darts and began to sob and wave like little boy and a perfect passion of emotion while i with the curious forgiveness of my own reason to smire stood beside him wondering', ' that was there', ' at the same time four of their fighting machines simply armed with tombs crossed the river and two of them black against the western sky came into sight of myself into the curate as we hurried whirly and painfully along the road that runs northward out of palaford', ' the light upon the railway muscled me at first there were a black heap and a vivid glare and to the right of that row of yellow oblongs', ' after a while i left them and went on to the railway station to gain and to many morning papers as i could', ' the shell burst clean in the base of the thing', ' all eye long the martians were hammering and stirring sleepless and defendingable at work upon the machines they were making ready and after and again above of greenish white smoke whirled up to the starless sky', ' to get underwater', ' the place was impastable', ' presently he came upon a stile and across the gate followed the fifth path northeastward', ' some of the refugees were excisioners with the people on the untumestors', ' those who have ever seen a living martian can scarcely imagine the strange aura of its appearance', ' he revealed that he scarcely understood what this indicated until he heard a pummel grating sound and saw the black marco jerk forward in jusso', ' but its something more than a meterite', ' this was the deputation', ' he read and rerounded the paper faring the worst had happened to me', ' the case appeared to me to enormously think and it was possible that the faint sounds we heard were visited unnoised and tumulted in the interior', ' at times i saw from the street of the sis of the asthmet for myself and the world about me seemed to watch it all from the outside from somewhere inconceivably remote out of time out of space out of the stress and tragedy of it all', ' he became alarmed of the news to this and went again to one of the stations to find out if communication were stored', ' for my own part i had been vivorously excited all day', ' four', ' the intense excitement of the events and no doubt left my persevered powers in a state of arrests', ' the authorities had reached a disremose from the santh cylinders but at the outside there could not be more than five in each cylinder friend and team altogether', ' we were far me under the ranch of the heatray there and had it not been for the silent desertation of some of the houses the stirring movement of backing in others and the knot of soldiers standing on the bridge over the railway and staring down to mind towards walking the day would have seemed very light and the other soon', ' i felt untie and the rays', ' he turned the backsomes right off for a time and then becomes two', ' it was all so real and so familiar', ' it would seem that a number of men were headables and to rest across the lawn', ' their parmen bodies cluttered in the stun as they swept swiftly forward upon the guns growing rapidly starcher as the true nearer', ' that indeed was the juror opinion', ' the greeking impact of trucks the sharp muscles of the engines from the junction make good with their shouts of amath from mars accepted men came into the station about height oclock with incredible tidings and gossed over disturbance the truckers might have done', ' i saw astonishment coming face war on the faces of the people about me', ' the chance against anything man like mars are a million and one in csed', ' they seemed very uplis the pit of the airs', ' i stopped and the grouped people', ' where are you going i asked', ' he is not in his current station', ' such things i told myself could not be', ' an enterprising swiest of dealer in the shippen road had the thomas side with the barrel loose of green opus and ginger pander', ' the burning gather had been exsewis but the little crowd towards underjaw was black and sparse white sea and the still viewing off furcustrievers of smoke', ' the hot water from the martians overthrew driven downstream of me so that for the best part of a mile i could see a little of the upper back', ' but as ruckus sprang at the hills before them so soon as they began to move and warned the waiting batteries about dit and hatcher', ' his idea was that a meteorite might be falling in a happy shower upon the planet or that a huge volcanic explosion was in progress', ' besides that there was quite a heap of my signals', ' a remarkable story from walking', ' the martians had been recalls they were not if olderable', ' i should have started at once but my companion had been in tagging of service and deed to better than that', ' he stood stared hauled something about crawling out in a thick like a ditch cover and ran on to the gate of the house at the grest', ' 13', ' the martians and their appliances were all to gather invisible save for that thin past upon which their restless mirror wappled her', ' locked again at the cylinder and uncoverable to terror crypt me', ' i did not do it but that was the last civilized cellar i was heaped for very many strange and terrible days', ' these electrons grew lower and broader even as we stared', ' i remember i built into extraordinary persuasion that i would be in plain with that presently when i was upon the very first of safety this material death as swift as the patches of light were themed after me from the pit by the cylinder and trike me down', ' anders and higan you saw that shooting star last night', ' beyond was a fringe of excitement and farther than that fridge the inflammation had not grabbed as yet', ' fairfield masters in the thames of valley', ' suddenly he vanished and i could have fancied a faint shriek and reached me', ' you be it more again i said and went on to my home', ' i and my wife stood a beast', ' he saw this one priscua man catch him up in one of his steely decals and tuck his head against the truck of a pine tree', ' the soldiers were having the grace difficulty and making them realize the gravity of their position', ' i do on my side begin to move towards the pit', ' 12', ' he heard footsteps running through and throw in the roofs and up ounceears behind him', ' every down that people would place nervously across the way at the meadows towards chertsey but everything over there was still', ' and myself heard nothing of that', ' there was some path into the eyes the lipless brim of which quibbered and mended and trots life', ' at the end of it i said dem bring nuns with a cigarette recrutting ogilvis rashness and denouncing the short sane timidity of the martians', ' the artillery man jumped down the bank of the road and splooted', ' by my faintest station we have marshaled from the pine trees and found the country calm and grateful under the morning sunlight', ' dead', ' for a minute he scarcely relays what had been and although the heat was excessive he clamored down into the man close to the bulk see the thing more clearly', ' when haphosy the kill i raised my head of water the martians hood pointed at the batteries they were still firing across the river and as it fenced and swocked loose it must have been the generator of the heat ray', ' i stepped short in the doorway', ' their history became unshackulatory', ' i know i did', ' it might be guilty i still believe that there were pin at bars', ' witherhead is about to wave miles from mayberry hill', ' they kept it a foolish thing said i figuring my white glass', ' and so forth', ' a sit one of the men turning', ' i could not grant it', ' people were fighting salvageably a standing group in the carriages even at two oclock', ' i stood over to him waiting for the next fla', ' people came panty long under evey pardons one husband and wife were either carrying a small outess toward between them with them of their household goods piled thereon', ' i found a little crowd of perhaps twenty people surrounding the huge hole in which the cylinder fletcher gail', ' he fancied even then that the cooling of the body might take up for this but one had termed that idea was the fact that the asp was falling only from the end of the cylinder', ' the horse took the mitt between a seethe and bolted', ' that the norm behind the mopin and the mannable onst across the landing came in dressed only shirt browsers and slippers his braces loose at his waist his hair disordered from his pillow', ' then suddenly the white flashes of the heat ray came leaping towards me', ' what news from the common said i', ' they are dangerous because no doubt they are mad with an arrow', ' i think they were received that nothing was to mean to hide for the precedent and had gone away breakfast at hendersons house']"
   ]
  },
  {
   "cell_type": "code",
   "execution_count": 2,
   "id": "72cff08c",
   "metadata": {},
   "outputs": [
    {
     "ename": "ModuleNotFoundError",
     "evalue": "No module named 'jiwer'",
     "output_type": "error",
     "traceback": [
      "\u001b[0;31m---------------------------------------------------------------------------\u001b[0m",
      "\u001b[0;31mModuleNotFoundError\u001b[0m                       Traceback (most recent call last)",
      "\u001b[0;32m/tmp/ipykernel_8506/187747606.py\u001b[0m in \u001b[0;36m<module>\u001b[0;34m\u001b[0m\n\u001b[0;32m----> 1\u001b[0;31m \u001b[0;32mimport\u001b[0m \u001b[0mnumpy\u001b[0m \u001b[0;32mas\u001b[0m \u001b[0mnp\u001b[0m\u001b[0;34m,\u001b[0m \u001b[0mjiwer\u001b[0m\u001b[0;34m\u001b[0m\u001b[0;34m\u001b[0m\u001b[0m\n\u001b[0m\u001b[1;32m      2\u001b[0m \u001b[0;32mfrom\u001b[0m \u001b[0mIPython\u001b[0m\u001b[0;34m.\u001b[0m\u001b[0mdisplay\u001b[0m \u001b[0;32mimport\u001b[0m \u001b[0mMarkdown\u001b[0m\u001b[0;34m,\u001b[0m \u001b[0mdisplay\u001b[0m\u001b[0;34m\u001b[0m\u001b[0;34m\u001b[0m\u001b[0m\n\u001b[1;32m      3\u001b[0m \u001b[0;34m\u001b[0m\u001b[0m\n\u001b[1;32m      4\u001b[0m \u001b[0;32mdef\u001b[0m \u001b[0mprintmd\u001b[0m\u001b[0;34m(\u001b[0m\u001b[0mstring\u001b[0m\u001b[0;34m)\u001b[0m\u001b[0;34m:\u001b[0m\u001b[0;34m\u001b[0m\u001b[0;34m\u001b[0m\u001b[0m\n\u001b[1;32m      5\u001b[0m     \u001b[0mdisplay\u001b[0m\u001b[0;34m(\u001b[0m\u001b[0mMarkdown\u001b[0m\u001b[0;34m(\u001b[0m\u001b[0mstring\u001b[0m\u001b[0;34m)\u001b[0m\u001b[0;34m)\u001b[0m\u001b[0;34m\u001b[0m\u001b[0;34m\u001b[0m\u001b[0m\n",
      "\u001b[0;31mModuleNotFoundError\u001b[0m: No module named 'jiwer'"
     ]
    }
   ],
   "source": [
    "import numpy as np, jiwer\n",
    "from IPython.display import Markdown, display\n",
    "\n",
    "def printmd(string):\n",
    "    display(Markdown(string))\n",
    "\n",
    "examples = np.random.choice(np.arange(len(targets)), 5)\n",
    "\n",
    "for i, example_idx in enumerate(examples):\n",
    "    print('\\n')\n",
    "    printmd('**Target:** ' + targets[i])\n",
    "    printmd('**Prediction:**' + predictions[i])"
   ]
  },
  {
   "cell_type": "code",
   "execution_count": 32,
   "id": "b26ce406",
   "metadata": {},
   "outputs": [
    {
     "data": {
      "text/plain": [
       "0.2659313725490196"
      ]
     },
     "execution_count": 32,
     "metadata": {},
     "output_type": "execute_result"
    }
   ],
   "source": [
    "removeBlanks = True\n",
    "\n",
    "if removeBlanks:\n",
    "    for i, (targ, pred) in enumerate(zip(targets, predictions)):\n",
    "        if targ == '':\n",
    "            del targets[i]\n",
    "            del predictions[i]\n",
    "\n",
    "transformation = jiwer.Compose([jiwer.RemovePunctuation(), jiwer.ToLowerCase()])\n",
    "targets     = transformation(targets)\n",
    "predictions = transformation(predictions)\n",
    "\n",
    "\n",
    "jiwer.wer(targets, predictions)"
   ]
  },
  {
   "cell_type": "code",
   "execution_count": null,
   "id": "f44cf789",
   "metadata": {},
   "outputs": [],
   "source": []
  }
 ],
 "metadata": {
  "kernelspec": {
   "display_name": "Magneto (3.9)",
   "language": "python",
   "name": "mag-3.9"
  },
  "language_info": {
   "codemirror_mode": {
    "name": "ipython",
    "version": 3
   },
   "file_extension": ".py",
   "mimetype": "text/x-python",
   "name": "python",
   "nbconvert_exporter": "python",
   "pygments_lexer": "ipython3",
   "version": "3.9.15"
  }
 },
 "nbformat": 4,
 "nbformat_minor": 5
}
